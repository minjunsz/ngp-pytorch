{
 "cells": [
  {
   "cell_type": "code",
   "execution_count": null,
   "metadata": {},
   "outputs": [],
   "source": [
    "import json\n",
    "import numpy as np\n",
    "import matplotlib as mpl\n",
    "import matplotlib.pyplot as plt\n",
    "from matplotlib.patches import Patch\n",
    "from mpl_toolkits.mplot3d.art3d import Poly3DCollection\n",
    "from pathlib import Path"
   ]
  },
  {
   "cell_type": "code",
   "execution_count": null,
   "metadata": {},
   "outputs": [],
   "source": [
    "class CameraPoseVisualizer:\n",
    "    def __init__(self, xlim, ylim, zlim):\n",
    "        self.fig = plt.figure(figsize=(18, 7))\n",
    "        self.ax = self.fig.add_subplot(projection = '3d')\n",
    "        self.ax.set_aspect(\"auto\")\n",
    "        self.ax.set_xlim(xlim)\n",
    "        self.ax.set_ylim(ylim)\n",
    "        self.ax.set_zlim(zlim)\n",
    "        self.ax.set_xlabel('x')\n",
    "        self.ax.set_ylabel('y')\n",
    "        self.ax.set_zlabel('z')\n",
    "        print('initialize camera pose visualizer')\n",
    "\n",
    "    def extrinsic2pyramid(self, extrinsic, color='r', focal_len_scaled=5, aspect_ratio=0.3):\n",
    "        focal_len_scaled = -1*focal_len_scaled\n",
    "        vertex_std = np.array([[0, 0, 0, 1],\n",
    "                               [focal_len_scaled * aspect_ratio, -focal_len_scaled * aspect_ratio, focal_len_scaled, 1],\n",
    "                               [focal_len_scaled * aspect_ratio, focal_len_scaled * aspect_ratio, focal_len_scaled, 1],\n",
    "                               [-focal_len_scaled * aspect_ratio, focal_len_scaled * aspect_ratio, focal_len_scaled, 1],\n",
    "                               [-focal_len_scaled * aspect_ratio, -focal_len_scaled * aspect_ratio, focal_len_scaled, 1]])\n",
    "        vertex_transformed = vertex_std @ extrinsic.T\n",
    "        meshes = [[vertex_transformed[0, :-1], vertex_transformed[1][:-1], vertex_transformed[2, :-1]],\n",
    "                            [vertex_transformed[0, :-1], vertex_transformed[2, :-1], vertex_transformed[3, :-1]],\n",
    "                            [vertex_transformed[0, :-1], vertex_transformed[3, :-1], vertex_transformed[4, :-1]],\n",
    "                            [vertex_transformed[0, :-1], vertex_transformed[4, :-1], vertex_transformed[1, :-1]],\n",
    "                            [vertex_transformed[1, :-1], vertex_transformed[2, :-1], vertex_transformed[3, :-1], vertex_transformed[4, :-1]]]\n",
    "        self.ax.add_collection3d(\n",
    "            Poly3DCollection(meshes, facecolors=color, linewidths=0.3, edgecolors=color, alpha=0.35))\n",
    "\n",
    "    def customize_legend(self, list_label):\n",
    "        list_handle = []\n",
    "        for idx, label in enumerate(list_label):\n",
    "            color = plt.cm.rainbow(idx / len(list_label))\n",
    "            patch = Patch(color=color, label=label)\n",
    "            list_handle.append(patch)\n",
    "        plt.legend(loc='right', bbox_to_anchor=(1.8, 0.5), handles=list_handle)\n",
    "\n",
    "    def colorbar(self, max_frame_length):\n",
    "        cmap = mpl.cm.rainbow\n",
    "        norm = mpl.colors.Normalize(vmin=0, vmax=max_frame_length)\n",
    "        self.fig.colorbar(mpl.cm.ScalarMappable(norm=norm, cmap=cmap), orientation='vertical', label='Frame Number')\n",
    "\n",
    "    def show(self):\n",
    "        plt.title('Extrinsic Parameters')\n",
    "        plt.show()"
   ]
  },
  {
   "cell_type": "markdown",
   "metadata": {},
   "source": [
    "Load `Camera-to-World` transformation matrices."
   ]
  },
  {
   "cell_type": "code",
   "execution_count": null,
   "metadata": {},
   "outputs": [],
   "source": [
    "poses = []\n",
    "with Path('../data/nerf_synthetic/lego', 'transforms_train.json').open('r') as fp:\n",
    "    meta = json.load(fp)\n",
    "    for frame in meta['frames']:\n",
    "        poses.append(np.array(frame['transform_matrix']))\n",
    "t_arr = np.array([pose[:3,-1] for pose in poses])\n",
    "maxes = t_arr.max(axis=0)\n",
    "mins = t_arr.min(axis=0)"
   ]
  },
  {
   "cell_type": "markdown",
   "metadata": {},
   "source": [
    "Visualize using `matplotlib`"
   ]
  },
  {
   "cell_type": "code",
   "execution_count": null,
   "metadata": {},
   "outputs": [],
   "source": [
    "visualizer = CameraPoseVisualizer([mins[0]-1, maxes[0]+1], [mins[1]-1, maxes[1]+1], [mins[2]-1, maxes[2]+1])\n",
    "\n",
    "# argument : extrinsic matrix, color, scaled focal length(z-axis length of frame body of camera\n",
    "for pose in poses:\n",
    "    visualizer.extrinsic2pyramid(pose, 'c', 1)\n",
    "\n",
    "visualizer.show() "
   ]
  },
  {
   "cell_type": "code",
   "execution_count": null,
   "metadata": {},
   "outputs": [],
   "source": []
  }
 ],
 "metadata": {
  "kernelspec": {
   "display_name": "ngp",
   "language": "python",
   "name": "python3"
  },
  "language_info": {
   "codemirror_mode": {
    "name": "ipython",
    "version": 3
   },
   "file_extension": ".py",
   "mimetype": "text/x-python",
   "name": "python",
   "nbconvert_exporter": "python",
   "pygments_lexer": "ipython3",
   "version": "3.11.4"
  },
  "orig_nbformat": 4
 },
 "nbformat": 4,
 "nbformat_minor": 2
}
